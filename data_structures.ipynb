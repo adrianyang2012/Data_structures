{
  "nbformat": 4,
  "nbformat_minor": 0,
  "metadata": {
    "colab": {
      "private_outputs": true,
      "provenance": [],
      "authorship_tag": "ABX9TyOGTH4T7zuTSPoziIWcWpFG",
      "include_colab_link": true
    },
    "kernelspec": {
      "name": "python3",
      "display_name": "Python 3"
    },
    "language_info": {
      "name": "python"
    }
  },
  "cells": [
    {
      "cell_type": "markdown",
      "metadata": {
        "id": "view-in-github",
        "colab_type": "text"
      },
      "source": [
        "<a href=\"https://colab.research.google.com/github/adrianyang2012/stack_and_queue/blob/main/data_structures.ipynb\" target=\"_parent\"><img src=\"https://colab.research.google.com/assets/colab-badge.svg\" alt=\"Open In Colab\"/></a>"
      ]
    },
    {
      "cell_type": "code",
      "source": [
        "class Node:\n",
        "  def __init__(self, val, next):\n",
        "    self.next = next\n",
        "    self.val = val\n",
        "\n",
        "\n",
        "class LinkedList:\n",
        "  def __init__(self):\n",
        "    self.head = None\n",
        "    self.length = 0\n",
        "\n",
        "  def empty(self):\n",
        "    return not self.head\n",
        "\n",
        "  def insert(self, add_after_what_index, item):\n",
        "    if self.head == None:\n",
        "      self.head = Node(item,None)\n",
        "    else:\n",
        "      cur = self.head\n",
        "      for i in range(add_after_what_index-1):\n",
        "        cur = cur.next\n",
        "      tmp = cur.next\n",
        "      cur.next = Node(item,tmp)\n",
        "    self.length+=1\n",
        "\n",
        "  def length(self):\n",
        "    return self.length\n",
        "\n",
        "  def delete(self, delete_what_index):\n",
        "    if delete_what_index == 0:\n",
        "      self.head = self.head.next\n",
        "    else:\n",
        "      cur = self.head\n",
        "      for i in range(delete_what_index-1):\n",
        "        cur = cur.next\n",
        "      try:\n",
        "        cur.next = cur.next.next\n",
        "      except:\n",
        "        cur.next = None\n",
        "    self.length-=1\n",
        "\n",
        "  def read(self, index):\n",
        "    cur = self.head\n",
        "    for i in range(index-1):\n",
        "      cur = cur.next\n",
        "    return (cur.val)\n",
        "\n",
        "  def read_all(self):\n",
        "    cur = self.head\n",
        "    while cur != None:\n",
        "      print(cur.val)\n",
        "      cur = cur.next\n",
        "  def append(self, item_to_add):\n",
        "    self.insert(self.length, item_to_add)\n",
        "\n",
        "\n",
        "li = LinkedList()\n",
        "li.append('bob')\n",
        "li.append('john')\n",
        "li.append('dylan')\n",
        "li.read_all()\n",
        "li.append('bryan')\n",
        "li.delete(1)\n",
        "li.read_all()\n",
        "print(li.read(0))"
      ],
      "metadata": {
        "id": "V2h67lqHxoho"
      },
      "execution_count": null,
      "outputs": []
    },
    {
      "cell_type": "code",
      "source": [
        "class Stack:\n",
        "  def __init__(self):\n",
        "    self.data = LinkedList()\n",
        "  def add(self,item):\n",
        "    self.data.append(item)\n",
        "  def extract(self):\n",
        "    tmp = self.data.read(self.data.length)\n",
        "    self.data.delete(self.data.length)\n",
        "    return tmp\n",
        "mystack = Stack()\n"
      ],
      "metadata": {
        "id": "UVU4nPhz2DBy"
      },
      "execution_count": null,
      "outputs": []
    },
    {
      "cell_type": "code",
      "source": [
        "mystack.add('bob')\n",
        "print(mystack.extract())\n",
        "mystack.add('john')\n",
        "mystack.add('dylan')\n",
        "\n",
        "print(mystack.extract())\n",
        "mystack.add('bryan')\n",
        "print(mystack.extract())"
      ],
      "metadata": {
        "id": "q72IYnWh2GNN"
      },
      "execution_count": null,
      "outputs": []
    },
    {
      "cell_type": "code",
      "source": [
        "class Queue:\n",
        "  def __init__(self):\n",
        "    self.data = LinkedList()\n",
        "  def add(self,item):\n",
        "    self.data.insert(self.data.length,item)\n",
        "  def extract(self):\n",
        "    tmp = self.data.read(0)\n",
        "    self.data.delete(0)\n",
        "    return tmp\n",
        "myqueue = Queue()\n",
        "myqueue.add('Bob')\n",
        "myqueue.add('Dylan')\n",
        "print(myqueue.extract())\n",
        "myqueue.add('bryan')\n",
        "print(myqueue.extract())\n",
        "print(myqueue.extract())"
      ],
      "metadata": {
        "id": "6kuQaFyqjIqP"
      },
      "execution_count": null,
      "outputs": []
    }
  ]
}