{
  "nbformat": 4,
  "nbformat_minor": 0,
  "metadata": {
    "colab": {
      "private_outputs": true,
      "provenance": [],
      "authorship_tag": "ABX9TyPRa/Vk7pEQRB+IHkg9C8cP",
      "include_colab_link": true
    },
    "kernelspec": {
      "name": "python3",
      "display_name": "Python 3"
    },
    "language_info": {
      "name": "python"
    }
  },
  "cells": [
    {
      "cell_type": "markdown",
      "metadata": {
        "id": "view-in-github",
        "colab_type": "text"
      },
      "source": [
        "<a href=\"https://colab.research.google.com/github/adrianyang2012/stack_and_queue/blob/main/data_structures.ipynb\" target=\"_parent\"><img src=\"https://colab.research.google.com/assets/colab-badge.svg\" alt=\"Open In Colab\"/></a>"
      ]
    },
    {
      "cell_type": "code",
      "source": [
        "class Stack:\n",
        "  def __init__(self):\n",
        "    self.data = []\n",
        "  def add(self,item):\n",
        "    self.data.append(item)\n",
        "  def extract(self):\n",
        "    tmp = self.data[-1]\n",
        "    del self.data[-1]\n",
        "    return tmp\n",
        "mystack = Stack()\n"
      ],
      "metadata": {
        "id": "UVU4nPhz2DBy"
      },
      "execution_count": null,
      "outputs": []
    },
    {
      "cell_type": "code",
      "source": [
        "mystack.add('bob')\n",
        "mystack.add('john')\n",
        "mystack.add('dylan')\n",
        "print(mystack.extract())\n",
        "print(mystack.extract())\n",
        "mystack.add('bryan')\n",
        "print(mystack.extract())"
      ],
      "metadata": {
        "id": "q72IYnWh2GNN"
      },
      "execution_count": null,
      "outputs": []
    },
    {
      "cell_type": "code",
      "source": [
        "class Queue:\n",
        "  def __init__(self):\n",
        "    self.data = []\n",
        "  def add(self,item):\n",
        "    self.data.append(item)\n",
        "  def extract(self):\n",
        "    tmp = self.data[0]\n",
        "    del self.data[0]\n",
        "    return tmp\n",
        "myqueue = Queue()\n",
        "myqueue.add('Bob')\n",
        "myqueue.add('Dylan')\n",
        "print(myqueue.extract())\n",
        "myqueue.add('bryan')\n",
        "print(myqueue.extract())\n",
        "print(myqueue.extract())"
      ],
      "metadata": {
        "id": "6kuQaFyqjIqP"
      },
      "execution_count": null,
      "outputs": []
    },
    {
      "cell_type": "code",
      "source": [
        "class Node:\n",
        "  def __init__(self,val,next):\n",
        "    self.next = next\n",
        "    self.val = val\n",
        "class LinkedList:\n",
        "  def __init__(self):\n",
        "    self.head = None\n",
        "  def empty(self):\n",
        "    return not self.head\n",
        "  def add_after(self,add_after_what_index,item):\n",
        "    if self.head == None:\n",
        "      self.head = Node(item,None)\n",
        "    else:\n",
        "      cur = self.head\n",
        "      for i in range(add_after_what_index-1):\n",
        "        cur = cur.next\n",
        "      tmp = cur.next\n",
        "      cur.next = Node(item,tmp)\n",
        "  def length(self):\n",
        "    cur = self.head\n",
        "    length = 0\n",
        "    while cur != None:\n",
        "      length+=1\n",
        "      cur = cur.next\n",
        "    return length\n",
        "  def delete(self,delete_what_index):\n",
        "    cur = self.head\n",
        "    for i in range(delete_what_index-1):\n",
        "      cur = cur.next\n",
        "    try:\n",
        "      cur.next = cur.next.next\n",
        "    except:\n",
        "      cur.next = None\n",
        "  def read(self,index):\n",
        "    cur = self.head\n",
        "    for i in range(index):\n",
        "      cur = cur.next\n",
        "    print(cur.val)\n",
        "  def read_all(self):\n",
        "    cur = self.head\n",
        "    while cur != None:\n",
        "      print(cur.val)\n",
        "      cur = cur.next\n",
        "\n",
        "li = LinkedList()\n",
        "li.add_after(0,'bob')\n",
        "li.add_after(li.length(),'john')\n",
        "li.add_after(li.length(),'dylan')\n",
        "li.read_all()\n",
        "li.add_after(li.length(),'bryan')\n",
        "li.delete(1)\n",
        "li.read_all()\n",
        "li.read(0)"
      ],
      "metadata": {
        "id": "V2h67lqHxoho"
      },
      "execution_count": null,
      "outputs": []
    },
    {
      "cell_type": "code",
      "source": [],
      "metadata": {
        "id": "w3NF8axSNtwt"
      },
      "execution_count": null,
      "outputs": []
    },
    {
      "cell_type": "code",
      "source": [],
      "metadata": {
        "id": "Hcs2X3p39-9x"
      },
      "execution_count": null,
      "outputs": []
    }
  ]
}