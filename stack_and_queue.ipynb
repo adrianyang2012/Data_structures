{
  "nbformat": 4,
  "nbformat_minor": 0,
  "metadata": {
    "colab": {
      "private_outputs": true,
      "provenance": [],
      "authorship_tag": "ABX9TyPshtCRI/WQ6F2LkxPtMhvW",
      "include_colab_link": true
    },
    "kernelspec": {
      "name": "python3",
      "display_name": "Python 3"
    },
    "language_info": {
      "name": "python"
    }
  },
  "cells": [
    {
      "cell_type": "markdown",
      "metadata": {
        "id": "view-in-github",
        "colab_type": "text"
      },
      "source": [
        "<a href=\"https://colab.research.google.com/github/adrianyang2012/stack_and_queue/blob/main/stack_and_queue.ipynb\" target=\"_parent\"><img src=\"https://colab.research.google.com/assets/colab-badge.svg\" alt=\"Open In Colab\"/></a>"
      ]
    },
    {
      "cell_type": "code",
      "source": [
        "class Stack:\n",
        "  def __init__(self):\n",
        "    self.data = []\n",
        "  def add(self,item):\n",
        "    self.data.append(item)\n",
        "  def extract(self):\n",
        "    tmp = self.data[-1]\n",
        "    del self.data[-1]\n",
        "    return tmp\n",
        "mystack = Stack()\n"
      ],
      "metadata": {
        "id": "UVU4nPhz2DBy"
      },
      "execution_count": null,
      "outputs": []
    },
    {
      "cell_type": "code",
      "source": [
        "mystack.add('bob')\n",
        "mystack.add('john')\n",
        "mystack.add('dylan')\n",
        "print(mystack.extract())\n",
        "print(mystack.extract())\n",
        "mystack.add('bryan')\n",
        "print(mystack.extract())"
      ],
      "metadata": {
        "id": "q72IYnWh2GNN"
      },
      "execution_count": null,
      "outputs": []
    },
    {
      "cell_type": "code",
      "source": [
        "class Queue:\n",
        "  def __init__(self):\n",
        "    self.data = []\n",
        "  def add(self,item):\n",
        "    self.data.append(item)\n",
        "  def extract(self):\n",
        "    tmp = self.data[0]\n",
        "    del self.data[0]\n",
        "    return tmp\n",
        "myqueue = Queue()\n",
        "myqueue.add('Bob')\n",
        "myqueue.add('Dylan')\n",
        "print(myqueue.extract())\n",
        "myqueue.add('bryan')\n",
        "print(myqueue.extract())\n",
        "print(myqueue.extract())"
      ],
      "metadata": {
        "id": "6kuQaFyqjIqP"
      },
      "execution_count": null,
      "outputs": []
    }
  ]
}